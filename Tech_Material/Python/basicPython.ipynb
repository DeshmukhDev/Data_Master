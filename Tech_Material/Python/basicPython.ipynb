{
 "cells": [
  {
   "cell_type": "markdown",
   "id": "e2969c3c",
   "metadata": {},
   "source": [
    "# Python print() Function \n"
   ]
  },
  {
   "cell_type": "code",
   "execution_count": 198,
   "id": "890a049f",
   "metadata": {},
   "outputs": [
    {
     "name": "stdout",
     "output_type": "stream",
     "text": [
      "hello\n"
     ]
    }
   ],
   "source": [
    "print(\"hello\")"
   ]
  },
  {
   "cell_type": "code",
   "execution_count": 5,
   "id": "dd06bba5",
   "metadata": {},
   "outputs": [
    {
     "name": "stdout",
     "output_type": "stream",
     "text": [
      "a= 10\n"
     ]
    }
   ],
   "source": [
    "a= 10\n",
    "print(\"a=\",a)# Two objects are passed in print() function  "
   ]
  },
  {
   "cell_type": "code",
   "execution_count": 8,
   "id": "24f9cb85",
   "metadata": {},
   "outputs": [
    {
     "name": "stdout",
     "output_type": "stream",
     "text": [
      "a= 10 =b\n"
     ]
    }
   ],
   "source": [
    "b=a\n",
    "print(\"a=\",a,\"=b\")# Three objects are passed in print function "
   ]
  },
  {
   "cell_type": "markdown",
   "id": "6425f4c8",
   "metadata": {},
   "source": [
    "IMP\n",
    "1. = : assign value --> focus on memory address\n",
    "2. == : comparison--> focus on values\n"
   ]
  },
  {
   "cell_type": "code",
   "execution_count": 9,
   "id": "8b1b3eb2",
   "metadata": {},
   "outputs": [],
   "source": [
    "#Python provides the input() function which is used to take input from the user. "
   ]
  },
  {
   "cell_type": "code",
   "execution_count": 10,
   "id": "e317d064",
   "metadata": {},
   "outputs": [
    {
     "name": "stdout",
     "output_type": "stream",
     "text": [
      "hi,what is ur name:\n",
      "hey \n"
     ]
    }
   ],
   "source": [
    "name = input(\"hi,what is ur name:\")\n",
    "print(\"hey\",name)"
   ]
  },
  {
   "cell_type": "code",
   "execution_count": 11,
   "id": "a773da6f",
   "metadata": {},
   "outputs": [
    {
     "name": "stdout",
     "output_type": "stream",
     "text": [
      "enter ur number\n"
     ]
    },
    {
     "ename": "ValueError",
     "evalue": "invalid literal for int() with base 10: ''",
     "output_type": "error",
     "traceback": [
      "\u001b[1;31m---------------------------------------------------------------------------\u001b[0m",
      "\u001b[1;31mValueError\u001b[0m                                Traceback (most recent call last)",
      "\u001b[1;32m~\\AppData\\Local\\Temp\\ipykernel_1224\\2883841760.py\u001b[0m in \u001b[0;36m<module>\u001b[1;34m\u001b[0m\n\u001b[1;32m----> 1\u001b[1;33m \u001b[0mnumber\u001b[0m \u001b[1;33m=\u001b[0m \u001b[0mint\u001b[0m\u001b[1;33m(\u001b[0m\u001b[0minput\u001b[0m\u001b[1;33m(\u001b[0m\u001b[1;34m\"enter ur number\"\u001b[0m\u001b[1;33m)\u001b[0m\u001b[1;33m)\u001b[0m\u001b[1;33m\u001b[0m\u001b[1;33m\u001b[0m\u001b[0m\n\u001b[0m\u001b[0;32m      2\u001b[0m \u001b[0mprint\u001b[0m\u001b[1;33m(\u001b[0m\u001b[1;34m\"call me on:\"\u001b[0m\u001b[1;33m,\u001b[0m\u001b[0mnumber\u001b[0m\u001b[1;33m)\u001b[0m\u001b[1;33m\u001b[0m\u001b[1;33m\u001b[0m\u001b[0m\n",
      "\u001b[1;31mValueError\u001b[0m: invalid literal for int() with base 10: ''"
     ]
    }
   ],
   "source": [
    "number = int(input(\"enter ur number\"))\n",
    "print(\"call me on:\",number)"
   ]
  },
  {
   "cell_type": "markdown",
   "id": "7e7bb6b1",
   "metadata": {},
   "source": [
    "Separator\n",
    "The print() function can accept any number of positional arguments. To separate these positional arguments , keyword argument “sep” is used."
   ]
  },
  {
   "cell_type": "code",
   "execution_count": 12,
   "id": "d17e5250",
   "metadata": {},
   "outputs": [
    {
     "name": "stdout",
     "output_type": "stream",
     "text": [
      "12-12-2022\n"
     ]
    }
   ],
   "source": [
    "a=12\n",
    "b=12\n",
    "c=2022\n",
    "print(a,b,c,sep=\"-\")\n"
   ]
  },
  {
   "cell_type": "markdown",
   "id": "e5dd6d45",
   "metadata": {},
   "source": [
    "Example: with print() function to write content directly to text file."
   ]
  },
  {
   "cell_type": "code",
   "execution_count": 13,
   "id": "be88a8a7",
   "metadata": {},
   "outputs": [],
   "source": [
    "import sys"
   ]
  },
  {
   "cell_type": "code",
   "execution_count": 14,
   "id": "61d1850a",
   "metadata": {},
   "outputs": [],
   "source": [
    "print(\"hi, m adding some text here\", file=open(\"D:/filename=requirements.txt\", 'w'))# yat nhi change honar "
   ]
  },
  {
   "cell_type": "code",
   "execution_count": 15,
   "id": "f4f3ec81",
   "metadata": {},
   "outputs": [],
   "source": [
    "print(\"hi, m adding some text here1\", file=open(\"Testfile.txt\", 'w'))# current working directory madhe txt file create hoil n tyat cgange hoil"
   ]
  },
  {
   "cell_type": "code",
   "execution_count": 16,
   "id": "0ba46ad7",
   "metadata": {},
   "outputs": [],
   "source": [
    "# addition of number"
   ]
  },
  {
   "cell_type": "code",
   "execution_count": null,
   "id": "5ad59e6c",
   "metadata": {},
   "outputs": [],
   "source": [
    "num1 = int(input(\"enter 1 num\"))\n",
    "num2 = int(input(\"enter 2 num\"))\n",
    "#print(\"num1 + num2\")   # (\" \") nhi dyayche te as a string cosider krel\n",
    "print(num1 +  num2)"
   ]
  },
  {
   "cell_type": "code",
   "execution_count": 213,
   "id": "da6727ab",
   "metadata": {},
   "outputs": [
    {
     "name": "stdout",
     "output_type": "stream",
     "text": [
      "55\n"
     ]
    }
   ],
   "source": [
    "a= 10\n",
    "b = 45\n",
    "print(a+b)"
   ]
  },
  {
   "cell_type": "code",
   "execution_count": 214,
   "id": "62d69826",
   "metadata": {},
   "outputs": [
    {
     "name": "stdout",
     "output_type": "stream",
     "text": [
      "1**2**D\n"
     ]
    }
   ],
   "source": [
    "print(\"1\",\"2\",\"D\",sep=\"**\")"
   ]
  },
  {
   "cell_type": "code",
   "execution_count": null,
   "id": "51827c50",
   "metadata": {},
   "outputs": [],
   "source": [
    "#startwith(),endwith(),split(),find(),index(),strip()"
   ]
  },
  {
   "cell_type": "markdown",
   "id": "91b970b4",
   "metadata": {},
   "source": [
    "# # 1. split"
   ]
  },
  {
   "cell_type": "code",
   "execution_count": 7,
   "id": "256e40f4",
   "metadata": {},
   "outputs": [
    {
     "data": {
      "text/plain": [
       "['vaish', 'gmail.com']"
      ]
     },
     "execution_count": 7,
     "metadata": {},
     "output_type": "execute_result"
    }
   ],
   "source": [
    "\n",
    "email = 'vaish@gmail.com'\n",
    "#email.split('.')\n",
    "email.split('@')  #  ===  imp ===="
   ]
  },
  {
   "cell_type": "code",
   "execution_count": 8,
   "id": "b3f7e179",
   "metadata": {},
   "outputs": [
    {
     "data": {
      "text/plain": [
       "'gmail.com'"
      ]
     },
     "execution_count": 8,
     "metadata": {},
     "output_type": "execute_result"
    }
   ],
   "source": [
    "email.split('@')[1]"
   ]
  },
  {
   "cell_type": "code",
   "execution_count": 9,
   "id": "f61606de",
   "metadata": {},
   "outputs": [
    {
     "data": {
      "text/plain": [
       "'.com'"
      ]
     },
     "execution_count": 9,
     "metadata": {},
     "output_type": "execute_result"
    }
   ],
   "source": [
    "email.split('@')[1][5:9]"
   ]
  },
  {
   "cell_type": "code",
   "execution_count": 11,
   "id": "b27c330e",
   "metadata": {},
   "outputs": [
    {
     "data": {
      "text/plain": [
       "['python', 'java', 'djngo', 'c']"
      ]
     },
     "execution_count": 11,
     "metadata": {},
     "output_type": "execute_result"
    }
   ],
   "source": [
    "s = \"python*java*djngo*c\"\n",
    "s.split('*')"
   ]
  },
  {
   "cell_type": "code",
   "execution_count": 13,
   "id": "f3501cd7",
   "metadata": {},
   "outputs": [
    {
     "data": {
      "text/plain": [
       "['py', 'hon*java*djngo*c']"
      ]
     },
     "execution_count": 13,
     "metadata": {},
     "output_type": "execute_result"
    }
   ],
   "source": [
    "s.split('t')"
   ]
  },
  {
   "cell_type": "code",
   "execution_count": 19,
   "id": "255db912",
   "metadata": {},
   "outputs": [
    {
     "data": {
      "text/plain": [
       "'c'"
      ]
     },
     "execution_count": 19,
     "metadata": {},
     "output_type": "execute_result"
    }
   ],
   "source": [
    "filename = \"abc.xlsx\"\n",
    "filename.split(\".\")[0][2]"
   ]
  },
  {
   "cell_type": "code",
   "execution_count": 23,
   "id": "3c5c1561",
   "metadata": {},
   "outputs": [
    {
     "data": {
      "text/plain": [
       "'a'"
      ]
     },
     "execution_count": 23,
     "metadata": {},
     "output_type": "execute_result"
    }
   ],
   "source": [
    "filename[0]"
   ]
  },
  {
   "cell_type": "markdown",
   "id": "50c4f74e",
   "metadata": {},
   "source": [
    "#  #2.  index()  --> gives the index of ele\n"
   ]
  },
  {
   "cell_type": "code",
   "execution_count": 24,
   "id": "57b95415",
   "metadata": {},
   "outputs": [
    {
     "data": {
      "text/plain": [
       "0"
      ]
     },
     "execution_count": 24,
     "metadata": {},
     "output_type": "execute_result"
    }
   ],
   "source": [
    "\n",
    "T = \"Python\"\n",
    "T.index(T)\n"
   ]
  },
  {
   "cell_type": "code",
   "execution_count": 26,
   "id": "676e5615",
   "metadata": {},
   "outputs": [
    {
     "data": {
      "text/plain": [
       "-1"
      ]
     },
     "execution_count": 26,
     "metadata": {},
     "output_type": "execute_result"
    }
   ],
   "source": [
    "#The index() method is almost the same as the find() method, the only difference is that the find() method returns -1 if the value is not found.\n",
    "t1 = \"i hate muslims\"\n",
    "t1.find('ht') #--> space la pn index count krel, ht nvta present mnun -1 ala"
   ]
  },
  {
   "cell_type": "code",
   "execution_count": 252,
   "id": "8cca1eca",
   "metadata": {},
   "outputs": [
    {
     "data": {
      "text/plain": [
       "2"
      ]
     },
     "execution_count": 252,
     "metadata": {},
     "output_type": "execute_result"
    }
   ],
   "source": [
    "t1 = \"i hate muslims\"\n",
    "t1.index('hate') #--> space la pn index count krel"
   ]
  },
  {
   "cell_type": "code",
   "execution_count": 253,
   "id": "f7af5eff",
   "metadata": {},
   "outputs": [
    {
     "name": "stdout",
     "output_type": "stream",
     "text": [
      "1\n"
     ]
    }
   ],
   "source": [
    "txt = \"Hello, welcome to my world.\"\n",
    "\n",
    "x = txt.index(\"e\")\n",
    "\n",
    "print(x)  # jeva 1st time 'e' ala asel tr print krel"
   ]
  },
  {
   "cell_type": "code",
   "execution_count": 255,
   "id": "85bdf649",
   "metadata": {},
   "outputs": [
    {
     "name": "stdout",
     "output_type": "stream",
     "text": [
      "-1\n"
     ]
    },
    {
     "ename": "ValueError",
     "evalue": "substring not found",
     "output_type": "error",
     "traceback": [
      "\u001b[1;31m---------------------------------------------------------------------------\u001b[0m",
      "\u001b[1;31mValueError\u001b[0m                                Traceback (most recent call last)",
      "\u001b[1;32m~\\AppData\\Local\\Temp\\ipykernel_7408\\461946462.py\u001b[0m in \u001b[0;36m<module>\u001b[1;34m\u001b[0m\n\u001b[0;32m      2\u001b[0m \u001b[1;33m\u001b[0m\u001b[0m\n\u001b[0;32m      3\u001b[0m \u001b[0mprint\u001b[0m\u001b[1;33m(\u001b[0m\u001b[0mtxt\u001b[0m\u001b[1;33m.\u001b[0m\u001b[0mfind\u001b[0m\u001b[1;33m(\u001b[0m\u001b[1;34m\"q\"\u001b[0m\u001b[1;33m)\u001b[0m\u001b[1;33m)\u001b[0m\u001b[1;33m\u001b[0m\u001b[1;33m\u001b[0m\u001b[0m\n\u001b[1;32m----> 4\u001b[1;33m \u001b[0mprint\u001b[0m\u001b[1;33m(\u001b[0m\u001b[0mtxt\u001b[0m\u001b[1;33m.\u001b[0m\u001b[0mindex\u001b[0m\u001b[1;33m(\u001b[0m\u001b[1;34m\"q\"\u001b[0m\u001b[1;33m)\u001b[0m\u001b[1;33m)\u001b[0m  \u001b[1;31m#--> value not found raise an exception\u001b[0m\u001b[1;33m\u001b[0m\u001b[1;33m\u001b[0m\u001b[0m\n\u001b[0m",
      "\u001b[1;31mValueError\u001b[0m: substring not found"
     ]
    }
   ],
   "source": [
    "txt = \"Hello, welcome to my world.\"\n",
    "\n",
    "print(txt.find(\"q\"))\n",
    "print(txt.index(\"q\"))  #--> value not found raise an exception"
   ]
  },
  {
   "cell_type": "markdown",
   "id": "d3f6a92d",
   "metadata": {},
   "source": [
    "#  #3. startswith    --> returns True if the string starts with the specified value, otherwise False."
   ]
  },
  {
   "cell_type": "code",
   "execution_count": 28,
   "id": "f3ec5f89",
   "metadata": {},
   "outputs": [
    {
     "data": {
      "text/plain": [
       "False"
      ]
     },
     "execution_count": 28,
     "metadata": {},
     "output_type": "execute_result"
    }
   ],
   "source": [
    "\n",
    "txt = \"welcome to bangalore\"\n",
    "x= txt.startswith('wlcome')\n",
    "x"
   ]
  },
  {
   "cell_type": "markdown",
   "id": "cc72c126",
   "metadata": {},
   "source": [
    "# Syntax: str.startswith(prefix, start, end)"
   ]
  },
  {
   "cell_type": "code",
   "execution_count": 263,
   "id": "3bfe6c8a",
   "metadata": {},
   "outputs": [
    {
     "name": "stdout",
     "output_type": "stream",
     "text": [
      "True\n"
     ]
    }
   ],
   "source": [
    "#Check if position 7 to 20 starts with the characters \"wel\":\n",
    "\n",
    "txt = \"Hello, welcome to my world.\"\n",
    "\n",
    "x = txt.startswith(\"wel\", 7, 20)\n",
    "\n",
    "print(x)"
   ]
  },
  {
   "cell_type": "code",
   "execution_count": 264,
   "id": "9e71611e",
   "metadata": {},
   "outputs": [
    {
     "data": {
      "text/plain": [
       "True"
      ]
     },
     "execution_count": 264,
     "metadata": {},
     "output_type": "execute_result"
    }
   ],
   "source": [
    "text = \"geeks for geeks.\"\n",
    "x = text.startswith(\"geeks for geeks.\")\n",
    "x"
   ]
  },
  {
   "cell_type": "code",
   "execution_count": 30,
   "id": "a1120478",
   "metadata": {},
   "outputs": [
    {
     "name": "stdout",
     "output_type": "stream",
     "text": [
      "True\n"
     ]
    }
   ],
   "source": [
    "\n",
    "text = \"geeks for geeks.\"\n",
    " \n",
    "result = text.startswith('for geeks', 6) #--> start with index position 6\n",
    "print(result)"
   ]
  },
  {
   "cell_type": "code",
   "execution_count": 31,
   "id": "5c59a5d1",
   "metadata": {},
   "outputs": [
    {
     "name": "stdout",
     "output_type": "stream",
     "text": [
      "True\n"
     ]
    }
   ],
   "source": [
    "result = text.startswith('geeks', 10) #--> start with index position 10\n",
    "print(result)"
   ]
  },
  {
   "cell_type": "markdown",
   "id": "276aaa8c",
   "metadata": {},
   "source": [
    "#  We can also pass a tuple instead of a string to match with in Python String startswith() Method. In this case, startswith() method will return True if the string starts with any of the item in the tuple"
   ]
  },
  {
   "cell_type": "code",
   "execution_count": 33,
   "id": "e2b70c4b",
   "metadata": {},
   "outputs": [
    {
     "name": "stdout",
     "output_type": "stream",
     "text": [
      "True\n",
      "True\n",
      "False\n"
     ]
    }
   ],
   "source": [
    "string = \"GeeksForGeeks\"\n",
    "res = string.startswith(('geek', 'geeks', 'Geek', 'Geeks'))  #--> ek tri true phij atleast\n",
    "print(res)\n",
    "\n",
    "string = \"apple\"\n",
    "res = string.startswith(('a', 'e', 'i', 'o', 'u'))\n",
    "print(res)\n",
    "\n",
    "string = \"mango\"\n",
    "res = string.startswith(('a', 'e', 'i', 'o', 'u'))# he false ala coz start m ni hota a ni nhi\n",
    "\n",
    "print(res)\n"
   ]
  },
  {
   "cell_type": "markdown",
   "id": "779cdccf",
   "metadata": {},
   "source": [
    "# 4. endswith\n",
    "#Syntax: str.endswith(suffix, start, end)"
   ]
  },
  {
   "cell_type": "code",
   "execution_count": 276,
   "id": "40206b5b",
   "metadata": {},
   "outputs": [
    {
     "data": {
      "text/plain": [
       "True"
      ]
     },
     "execution_count": 276,
     "metadata": {},
     "output_type": "execute_result"
    }
   ],
   "source": [
    "txt = \"welcome to bangalore\"\n",
    "x= txt.endswith('bangalore')\n",
    "x"
   ]
  },
  {
   "cell_type": "code",
   "execution_count": 40,
   "id": "3f9729b9",
   "metadata": {},
   "outputs": [
    {
     "name": "stdout",
     "output_type": "stream",
     "text": [
      "True\n"
     ]
    }
   ],
   "source": [
    "\n",
    "text = \"geeks for geeks.\"\n",
    " \n",
    "# returns False\n",
    "result = text.endswith('geeks.')\n",
    "print (result)\n",
    " "
   ]
  },
  {
   "cell_type": "code",
   "execution_count": 42,
   "id": "a5e75016",
   "metadata": {},
   "outputs": [
    {
     "name": "stdout",
     "output_type": "stream",
     "text": [
      "False\n"
     ]
    }
   ],
   "source": [
    "result = text.endswith('geeks')\n",
    "print (result)              # . nhi dily mnun false"
   ]
  },
  {
   "cell_type": "code",
   "execution_count": 43,
   "id": "90093c78",
   "metadata": {},
   "outputs": [
    {
     "name": "stdout",
     "output_type": "stream",
     "text": [
      "True\n",
      "False\n",
      "True\n"
     ]
    }
   ],
   "source": [
    "text = \"geeks for geeks.\"\n",
    " \n",
    "# start parameter: 10\n",
    "result = text.endswith('geeks.', 10)\n",
    "print(result)\n",
    " \n",
    "# Both start and end is provided\n",
    "# start: 10, end: 16 - 1\n",
    "# Returns False\n",
    "result = text.endswith('geeks', 10, 16)\n",
    "print(result)\n",
    " \n",
    "# returns True\n",
    "result = text.endswith('geeks', 10, 15)#--index 16 la sampla asel tri 1 step adhi ch dyacha \n",
    "print(result)"
   ]
  },
  {
   "cell_type": "markdown",
   "id": "0c3dc851",
   "metadata": {},
   "source": [
    "Real time endswith example"
   ]
  },
  {
   "cell_type": "code",
   "execution_count": 2,
   "id": "e8566d10",
   "metadata": {},
   "outputs": [
    {
     "name": "stdout",
     "output_type": "stream",
     "text": [
      "****enter valid email******\n",
      "\n",
      "email id:ghfukg\n",
      "invalid\n"
     ]
    }
   ],
   "source": [
    "print(\"****enter valid email******\\n\")\n",
    "email =input(\"email id:\").lower()\n",
    "if email.endswith('@gmail.com'):\n",
    "    print(\"good\")\n",
    "else:\n",
    "    print(\"invalid\")\n"
   ]
  },
  {
   "cell_type": "markdown",
   "id": "90b317eb",
   "metadata": {},
   "source": [
    "# 5. strip() - The strip() method in-built function of Python is used to remove all the leading and trailing spaces from a string."
   ]
  },
  {
   "cell_type": "code",
   "execution_count": 3,
   "id": "62aee701",
   "metadata": {},
   "outputs": [],
   "source": [
    "# Syntax :string.strip([chars])"
   ]
  },
  {
   "cell_type": "code",
   "execution_count": 44,
   "id": "607c7306",
   "metadata": {},
   "outputs": [
    {
     "name": "stdout",
     "output_type": "stream",
     "text": [
      "Geeks for Geeks\n"
     ]
    }
   ],
   "source": [
    "string = ' Geeks for Geeks  '\n",
    " \n",
    "# Leading spaces are removed\n",
    "print(string.strip())"
   ]
  },
  {
   "cell_type": "code",
   "execution_count": 45,
   "id": "a3affc27",
   "metadata": {},
   "outputs": [
    {
     "name": "stdout",
     "output_type": "stream",
     "text": [
      "for\n",
      " Geeks for Geeks  \n"
     ]
    }
   ],
   "source": [
    "# Geeks is removed\n",
    "print(string.strip(' Geeks '))\n",
    " \n",
    "# Not removed since the spaces do not match\n",
    "print(string.strip('Geeks'))"
   ]
  },
  {
   "cell_type": "markdown",
   "id": "a0e58499",
   "metadata": {},
   "source": [
    ".grow()   # org n www remove kryla"
   ]
  },
  {
   "cell_type": "code",
   "execution_count": 46,
   "id": "4317bd4a",
   "metadata": {},
   "outputs": [
    {
     "name": "stdout",
     "output_type": "stream",
     "text": [
      "Geeksforgeeks.hhn\n"
     ]
    }
   ],
   "source": [
    "string = 'www.Geeksforgeeks.hhnorg'\n",
    " \n",
    "# '.grow' removes 'www' and 'org' and '.'\n",
    "print(string.strip('.grow'))"
   ]
  },
  {
   "cell_type": "markdown",
   "id": "68faab67",
   "metadata": {},
   "source": [
    "# (strip, lstrip, rstrip, min, max, maketrans, translate, replace & expandtabs()) "
   ]
  },
  {
   "cell_type": "code",
   "execution_count": 47,
   "id": "83c03bb0",
   "metadata": {},
   "outputs": [
    {
     "name": "stdout",
     "output_type": "stream",
     "text": [
      "geeksforgeeks---\n"
     ]
    }
   ],
   "source": [
    "str = \"---geeksforgeeks---\"\n",
    "print ( str.lstrip('-') ) #--> removes leading char"
   ]
  },
  {
   "cell_type": "code",
   "execution_count": 48,
   "id": "89a34104",
   "metadata": {},
   "outputs": [
    {
     "name": "stdout",
     "output_type": "stream",
     "text": [
      "---geeksforgeeks\n"
     ]
    }
   ],
   "source": [
    "str = \"---geeksforgeeks---\"\n",
    "print ( str.rstrip('-') ) #--> removes trailing char"
   ]
  },
  {
   "cell_type": "code",
   "execution_count": 20,
   "id": "9673cb3c",
   "metadata": {},
   "outputs": [
    {
     "name": "stdout",
     "output_type": "stream",
     "text": [
      "b\n"
     ]
    }
   ],
   "source": [
    " #min(“string”):- This function returns the minimum value alphabet from the string\n",
    "    \n",
    "str = \"geeksforgeeksghfjhjbkjkljlkgf\"\n",
    "print(min(str))"
   ]
  },
  {
   "cell_type": "code",
   "execution_count": 21,
   "id": "dce7bcf9",
   "metadata": {},
   "outputs": [
    {
     "name": "stdout",
     "output_type": "stream",
     "text": [
      "s\n"
     ]
    }
   ],
   "source": [
    "# max(“string”) :- This function returns the maximum value alphabet from string.\n",
    "\n",
    "str = \"geeksforgeeksghfjhjbkjkljlkgf\"\n",
    "print(max(str))"
   ]
  },
  {
   "cell_type": "code",
   "execution_count": 24,
   "id": "91e5ac95",
   "metadata": {},
   "outputs": [
    {
     "ename": "ImportError",
     "evalue": "cannot import name 'maketrans' from 'string' (C:\\Users\\deshm\\anaconda3\\lib\\string.py)",
     "output_type": "error",
     "traceback": [
      "\u001b[1;31m---------------------------------------------------------------------------\u001b[0m",
      "\u001b[1;31mImportError\u001b[0m                               Traceback (most recent call last)",
      "\u001b[1;32m~\\AppData\\Local\\Temp\\ipykernel_2128\\2754656899.py\u001b[0m in \u001b[0;36m<module>\u001b[1;34m\u001b[0m\n\u001b[0;32m      1\u001b[0m \u001b[1;31m# Python code to demonstrate working of\u001b[0m\u001b[1;33m\u001b[0m\u001b[1;33m\u001b[0m\u001b[0m\n\u001b[0;32m      2\u001b[0m \u001b[1;31m# maketrans() and translate()\u001b[0m\u001b[1;33m\u001b[0m\u001b[1;33m\u001b[0m\u001b[0m\n\u001b[1;32m----> 3\u001b[1;33m \u001b[1;32mfrom\u001b[0m \u001b[0mstring\u001b[0m \u001b[1;32mimport\u001b[0m \u001b[0mmaketrans\u001b[0m \u001b[1;31m# for maketrans()\u001b[0m\u001b[1;33m\u001b[0m\u001b[1;33m\u001b[0m\u001b[0m\n\u001b[0m\u001b[0;32m      4\u001b[0m \u001b[1;33m\u001b[0m\u001b[0m\n\u001b[0;32m      5\u001b[0m \u001b[0mstr\u001b[0m \u001b[1;33m=\u001b[0m \u001b[1;34m\"geeksforgeeks\"\u001b[0m\u001b[1;33m\u001b[0m\u001b[1;33m\u001b[0m\u001b[0m\n",
      "\u001b[1;31mImportError\u001b[0m: cannot import name 'maketrans' from 'string' (C:\\Users\\deshm\\anaconda3\\lib\\string.py)"
     ]
    }
   ],
   "source": [
    "# Python code to demonstrate working of\n",
    "# maketrans() and translate()\n",
    "from string import maketrans # for maketrans()\n",
    "\n",
    "str = \"geeksforgeeks\"\n",
    "\n",
    "str1 = \"gfo\"\n",
    "str2 = \"abc\"\n",
    "\n",
    "# using maketrans() to map elements of str2 with str1\n",
    "mapped = maketrans( str1, str2 )\n",
    "\n",
    "# using translate() to translate using the mapping\n",
    "print (\"The string after translation using mapped elements is : \")\n",
    "print (str.translate(mapped))\n"
   ]
  },
  {
   "cell_type": "markdown",
   "id": "a3b4dcdc",
   "metadata": {},
   "source": [
    "# Variables "
   ]
  },
  {
   "cell_type": "code",
   "execution_count": 49,
   "id": "19fe9002",
   "metadata": {},
   "outputs": [],
   "source": [
    "# 1. We do not need to declare variables before using them or declare their type in python.\n",
    "#2. Python Variable is containers that store values.\n",
    "#3. A Python variable is a name given to a memory location.\n",
    "#4. python consider value as a OBJECT.\n",
    "#5. OBJ are stored in HEAP mem."
   ]
  },
  {
   "cell_type": "markdown",
   "id": "5c186712",
   "metadata": {},
   "source": [
    "# Notes:\n",
    "\n",
    "The value stored in a variable can be changed during program execution.\n",
    "A Variables in Python is only a name given to a memory location, all the operations done on the variable effects that memory location."
   ]
  },
  {
   "cell_type": "markdown",
   "id": "75e97448",
   "metadata": {},
   "source": [
    "# Why dont we use pointers in python?\n",
    "aapn direct value access krto adress nhi so,no need of pointer.\n",
    "Everything in python is pass by reference not pass by value\n",
    "x,y,z=10 asel tr 3 different mem location nhi create honar ekach mem loc vr 10 (Value)store hoil n x,y,z tya mem  location la point krtil."
   ]
  },
  {
   "cell_type": "code",
   "execution_count": 50,
   "id": "bf1db82c",
   "metadata": {},
   "outputs": [
    {
     "name": "stdout",
     "output_type": "stream",
     "text": [
      "1\n",
      "20.2\n",
      "GeeksforGeeks\n"
     ]
    }
   ],
   "source": [
    "a, b, c = 1, 20.2, \"GeeksforGeeks\"\n",
    "\n",
    "print(a)\n",
    "print(b)\n",
    "print(c)\n"
   ]
  },
  {
   "cell_type": "code",
   "execution_count": 217,
   "id": "649a4a82",
   "metadata": {},
   "outputs": [
    {
     "name": "stdout",
     "output_type": "stream",
     "text": [
      "30\n"
     ]
    }
   ],
   "source": [
    "a,b=10,20\n",
    "print(a+b)"
   ]
  },
  {
   "cell_type": "code",
   "execution_count": 218,
   "id": "1824352f",
   "metadata": {},
   "outputs": [
    {
     "name": "stdout",
     "output_type": "stream",
     "text": [
      "hivaish\n"
     ]
    }
   ],
   "source": [
    "a,b=\"hi\",\"vaish\"\n",
    "print(a+b)"
   ]
  },
  {
   "cell_type": "markdown",
   "id": "936de99e",
   "metadata": {},
   "source": [
    "# Global and Local Python Variables\n",
    "#Global Variables - defined and declared outside a function\n",
    "#Local variables - defined and declared inside a function. We can not call this variable outside the function."
   ]
  },
  {
   "cell_type": "code",
   "execution_count": 219,
   "id": "f6abe482",
   "metadata": {},
   "outputs": [
    {
     "ename": "SyntaxError",
     "evalue": "invalid syntax (206596067.py, line 3)",
     "output_type": "error",
     "traceback": [
      "\u001b[1;36m  File \u001b[1;32m\"C:\\Users\\deshm\\AppData\\Local\\Temp\\ipykernel_2392\\206596067.py\"\u001b[1;36m, line \u001b[1;32m3\u001b[0m\n\u001b[1;33m    To create a global variable inside a function, you can use the global keyword.\u001b[0m\n\u001b[1;37m       ^\u001b[0m\n\u001b[1;31mSyntaxError\u001b[0m\u001b[1;31m:\u001b[0m invalid syntax\n"
     ]
    }
   ],
   "source": [
    "#global keyword -- > Normally, when you create a variable inside a function, that variable is local, and can only be used inside that function.\n",
    "\n",
    "To create a global variable inside a function, you can use the global keyword.\n",
    "\n",
    "# global --> main program scope\n",
    "#local --> function scope"
   ]
  },
  {
   "cell_type": "code",
   "execution_count": 53,
   "id": "86337132",
   "metadata": {},
   "outputs": [
    {
     "name": "stdout",
     "output_type": "stream",
     "text": [
      "python is good\n",
      "python is awsome\n"
     ]
    }
   ],
   "source": [
    "#Create a variable inside a function, with the same name as the global variable\n",
    "x = \"awsome\"\n",
    "def myfun():\n",
    "    x= \"good\"\n",
    "    print(\"python is \"  + x)# python is nantr space de.\n",
    "myfun()\n",
    "print(\"python is \" + x)"
   ]
  },
  {
   "cell_type": "code",
   "execution_count": 54,
   "id": "7c873cdb",
   "metadata": {},
   "outputs": [
    {
     "name": "stdout",
     "output_type": "stream",
     "text": [
      "python is good\n"
     ]
    }
   ],
   "source": [
    "# global keyword\n",
    "def myfun():\n",
    "    global x\n",
    "    x = \"good\"\n",
    "    \n",
    "myfun()\n",
    "print(\"python is \" + x)"
   ]
  },
  {
   "cell_type": "markdown",
   "id": "3ae2aa06",
   "metadata": {},
   "source": [
    "********* inside fun mdhe global var chi value change krychi asel tr global keyword*********"
   ]
  },
  {
   "cell_type": "code",
   "execution_count": 56,
   "id": "6995aa1a",
   "metadata": {},
   "outputs": [
    {
     "name": "stdout",
     "output_type": "stream",
     "text": [
      "python is good\n"
     ]
    }
   ],
   "source": [
    "x= \"awsome\"\n",
    "def myfun():\n",
    "    global x\n",
    "    x=\"good\"\n",
    "myfun()\n",
    "print(\"python is \" + x)"
   ]
  },
  {
   "cell_type": "markdown",
   "id": "ef4c8898",
   "metadata": {},
   "source": [
    "# Data Types : A variable can hold different types of values.\n",
    "1. Numric        --> interger, complex no., float\n",
    "2. Mapping Type  --> Dictonary\n",
    "3. Set Types     --> frozenset, Set\n",
    "4. Sequence type --> List, tuple, range\n",
    "5. text type     --> string\n",
    "6. Binary Types  --> bytes, bytearray, memoryview"
   ]
  },
  {
   "cell_type": "markdown",
   "id": "d8b778c3",
   "metadata": {},
   "source": [
    "# IMP \n",
    "# mutable -- Dict, Set, List\n",
    "# immutable -- tuple, string\n",
    "\n",
    "# ordred -- List, Tuple, string\n",
    "# Unorderd -- Set, Dict"
   ]
  },
  {
   "cell_type": "code",
   "execution_count": null,
   "id": "32b495ed",
   "metadata": {},
   "outputs": [],
   "source": []
  },
  {
   "cell_type": "code",
   "execution_count": 41,
   "id": "86d3cc75",
   "metadata": {},
   "outputs": [
    {
     "name": "stdout",
     "output_type": "stream",
     "text": [
      "123\n",
      "type of var  <class 'float'>\n",
      "var is a complex number True\n"
     ]
    }
   ],
   "source": [
    "#numeric\n",
    "# 1. int\n",
    "var = 123\n",
    "print(var)\n",
    "type(var)# to check type \n",
    "\n",
    "#2.float\n",
    "var = 12.5\n",
    "print(\"type of var \",type(var))\n",
    "\n",
    "#3.Complex\n",
    "var = 2+3j\n",
    "print(\"var is a complex number\", isinstance(1+3j,complex))  #The isinstance() function returns True if the specified object is of the specified type, otherwise False"
   ]
  },
  {
   "cell_type": "code",
   "execution_count": 42,
   "id": "2dc1c313",
   "metadata": {},
   "outputs": [
    {
     "data": {
      "text/plain": [
       "'PythonPython'"
      ]
     },
     "execution_count": 42,
     "metadata": {},
     "output_type": "execute_result"
    }
   ],
   "source": [
    "#1. string -- The string can be defined as the sequence of characters represented in the quotation marks.\n",
    "\"hey\"+\"hi\"\n",
    "\"Python\" *2 # print python 2 times\n",
    "\n"
   ]
  },
  {
   "cell_type": "code",
   "execution_count": 43,
   "id": "7243bfab",
   "metadata": {},
   "outputs": [
    {
     "name": "stdout",
     "output_type": "stream",
     "text": [
      "hi\n",
      "string using double quotes\n",
      "A multiline \n",
      "string\n"
     ]
    }
   ],
   "source": [
    "#2.  string using '', \"\", ''' '''\n",
    "str = 'hi'\n",
    "print(str)\n",
    "str = \"string using double quotes\"  \n",
    "print(str)  \n",
    "s = '''A multiline \n",
    "string'''  \n",
    "print(s)  "
   ]
  },
  {
   "cell_type": "code",
   "execution_count": 44,
   "id": "31b70f61",
   "metadata": {},
   "outputs": [
    {
     "name": "stdout",
     "output_type": "stream",
     "text": [
      "Initial String: \n",
      "GeeksForGeeks\n",
      "First character of String is: \n",
      "G\n",
      "\n",
      "Last character of String is: \n",
      "e\n"
     ]
    }
   ],
   "source": [
    "#3. accessing characters of String\n",
    "\n",
    "\n",
    "String1 = \"GeeksForGeeks\"\n",
    "print(\"Initial String: \")\n",
    "print(String1)\n",
    "\n",
    "# Printing First character\n",
    "print(\"First character of String is: \")\n",
    "print(String1[0])\n",
    "\n",
    "# Printing Last character\n",
    "print(\"\\nLast character of String is: \")\n",
    "print(String1[-4])\n"
   ]
  },
  {
   "cell_type": "code",
   "execution_count": 51,
   "id": "2a138c06",
   "metadata": {},
   "outputs": [
    {
     "name": "stdout",
     "output_type": "stream",
     "text": [
      "huhe vnsa\n",
      "hkumhsed ivanhsiav\n",
      "vihaidsm\n"
     ]
    }
   ],
   "source": [
    "#4 .reverse of string\n",
    "a= \"vaishnavi deshmukh\"\n",
    "print(a[::-2])  # alternate print in reverse\n",
    "print(a[::-1])\n",
    "print(a[:15:2])# start:stop:step\n"
   ]
  },
  {
   "cell_type": "code",
   "execution_count": 47,
   "id": "8d3327f3",
   "metadata": {},
   "outputs": [
    {
     "name": "stdout",
     "output_type": "stream",
     "text": [
      "skeegrofskeeg\n",
      "john#singh#subboo\n",
      "namelovescountry\n"
     ]
    }
   ],
   "source": [
    "# Program to reverse a string\n",
    "\n",
    "gfg = \"geeksforgeeks\"\n",
    "\n",
    "#1. Reverse the string using reversed and join function\n",
    "gfg = \"\".join(reversed(gfg))\n",
    "\n",
    "print(gfg)\n",
    "\n",
    "#2. .join ()\n",
    "\n",
    "a= (\"john\",\"singh\",\"subboo\")\n",
    "x = \"#\".join(a)  # join krel # ni\n",
    "\n",
    "print(x)\n",
    "\n",
    "#3.\n",
    "mydict={\"name\":\"vaish\", \"country\":\"india\"}\n",
    "seperator = \"loves\"\n",
    "x = seperator.join(mydict)\n",
    "print(x)\n",
    "\n"
   ]
  },
  {
   "cell_type": "markdown",
   "id": "57744ca9",
   "metadata": {},
   "source": [
    "# List []:mutable & ordered \n",
    "list can contain data of different types"
   ]
  },
  {
   "cell_type": "code",
   "execution_count": 90,
   "id": "8ea43feb",
   "metadata": {},
   "outputs": [],
   "source": [
    "#IMP\n",
    "#1.\n",
    "l1 =[4,3,\"toto\",[4,3,[1,5,6]],12.4,[6,7]]"
   ]
  },
  {
   "cell_type": "code",
   "execution_count": 29,
   "id": "17bf88f8",
   "metadata": {},
   "outputs": [
    {
     "data": {
      "text/plain": [
       "[4, 3, 'toto', [4, 3, [1, 5, 6]], 12.4, [6, 7]]"
      ]
     },
     "execution_count": 29,
     "metadata": {},
     "output_type": "execute_result"
    }
   ],
   "source": [
    "l1"
   ]
  },
  {
   "cell_type": "code",
   "execution_count": 31,
   "id": "ed9813eb",
   "metadata": {},
   "outputs": [
    {
     "data": {
      "text/plain": [
       "[6, 7]"
      ]
     },
     "execution_count": 31,
     "metadata": {},
     "output_type": "execute_result"
    }
   ],
   "source": [
    "l1[5]"
   ]
  },
  {
   "cell_type": "code",
   "execution_count": 91,
   "id": "9c248426",
   "metadata": {},
   "outputs": [],
   "source": [
    "#2.\n",
    "l2=[100,200,[500,450],[750,460,[23,[11,[34,56,78,[86,[1,2,3,4,[56,78,[5,7,89,56],89,78,67]]]]]]]]"
   ]
  },
  {
   "cell_type": "code",
   "execution_count": 92,
   "id": "9acda329",
   "metadata": {},
   "outputs": [
    {
     "data": {
      "text/plain": [
       "7"
      ]
     },
     "execution_count": 92,
     "metadata": {},
     "output_type": "execute_result"
    }
   ],
   "source": [
    "l2[3][2][1][1][3][1][4][2][1]"
   ]
  },
  {
   "cell_type": "code",
   "execution_count": 94,
   "id": "d41771a7",
   "metadata": {},
   "outputs": [
    {
     "name": "stdout",
     "output_type": "stream",
     "text": [
      "['Geeks']\n"
     ]
    }
   ],
   "source": [
    "#3. \n",
    "List = [['Geeks', 'For'], ['Geeks']]\n",
    "print(List[1])"
   ]
  },
  {
   "cell_type": "code",
   "execution_count": 102,
   "id": "edff9485",
   "metadata": {},
   "outputs": [
    {
     "name": "stdout",
     "output_type": "stream",
     "text": [
      "['Python']\n",
      "['hi']\n",
      "[1, 'hi', 'Python', 2, 1, 'hi', 'Python', 2]\n"
     ]
    }
   ],
   "source": [
    "#4.\n",
    "list1  = [1, \"hi\", \"Python\", 2] # jr mla \"python\" ch only \"n\" phij asel tr nhi access kru shkt only string asli tr kela asta.\n",
    "print(list1[2:-1])\n",
    "print(list1[1:2]) #hi print hoil coz (n-1)\n",
    "print(list1*2)\n"
   ]
  },
  {
   "cell_type": "code",
   "execution_count": 53,
   "id": "bc0b068d",
   "metadata": {},
   "outputs": [
    {
     "name": "stdout",
     "output_type": "stream",
     "text": [
      "[4, 5, 6, 7, 9]\n",
      "[6, 7, 9, 9]\n",
      "[6, 7, 9]\n",
      "[9, 9, 7, 6, 5, 4, 3, 2, 1]\n"
     ]
    }
   ],
   "source": [
    "#5. Slicing of list\n",
    "\n",
    "l3 =[1,2,3,4,5,6,7,9,9]\n",
    "l3\n",
    "print(l3[3:8]) #start,stop,step\n",
    "print(l3[-4::])# last index pahij asel tr ::\n",
    "print(l3[-4:-1])\n",
    "print(l3[::-1])     # reverse string"
   ]
  },
  {
   "cell_type": "code",
   "execution_count": 142,
   "id": "d0854344",
   "metadata": {},
   "outputs": [
    {
     "name": "stdout",
     "output_type": "stream",
     "text": [
      "10\n",
      "[1, 5, 7, 5, 90, 8, 9, 0, 67, 68]\n",
      "[56, 86, 78, 5, 90, 8, 9, 0, 67, 68]\n",
      "[56, 86, 78, 5, 90, 8, 9, 0, 67, 68]\n"
     ]
    }
   ],
   "source": [
    "#5.adding ele in list.\n",
    "\n",
    "l4=[1,5,7,5,3,8,9,0,67,68]\n",
    "l4\n",
    "print(len(l4))  # length of string\n",
    "l4[4]=90\n",
    "print(l4)\n",
    "\n",
    "l4[0:3]=56,86,78\n",
    "print(l4)\n",
    "\n",
    "l4[-3]=0\n",
    "print(l4)"
   ]
  },
  {
   "cell_type": "code",
   "execution_count": 54,
   "id": "f011eba8",
   "metadata": {},
   "outputs": [
    {
     "name": "stdout",
     "output_type": "stream",
     "text": [
      "Enter elements (Space-Separated): e n\n",
      "The list is: ['e', 'n']\n"
     ]
    }
   ],
   "source": [
    "# input the list as string\n",
    "string = input(\"Enter elements (Space-Separated): \")\n",
    "\n",
    "# split the strings and store it to a list\n",
    "lst = string.split()\n",
    "print('The list is:', lst) # printing the list\n"
   ]
  },
  {
   "cell_type": "markdown",
   "id": "9ab3b6d4",
   "metadata": {},
   "source": [
    "# list operation: insert , append, delete, extend, remove,pop,clear,index,count,sort,reverse "
   ]
  },
  {
   "cell_type": "code",
   "execution_count": 55,
   "id": "a696ab86",
   "metadata": {},
   "outputs": [
    {
     "name": "stdout",
     "output_type": "stream",
     "text": [
      "13\n"
     ]
    },
    {
     "data": {
      "text/plain": [
       "['hi', 'hey', 4, 6, 7, 8, 5, 3, 5.6, 9, 3, 5, 'hello']"
      ]
     },
     "execution_count": 55,
     "metadata": {},
     "output_type": "execute_result"
    }
   ],
   "source": [
    "#1 .insert() --> inserts the element before the given index.\n",
    "l5 = [\"hi\",\"hey\",4,6,7,8,5,3,5.6,9,3,5,'hello']\n",
    "print(len(l5))\n",
    "l5"
   ]
  },
  {
   "cell_type": "code",
   "execution_count": 56,
   "id": "66b4cf5d",
   "metadata": {},
   "outputs": [
    {
     "data": {
      "text/plain": [
       "['hi', 'hey', 4, 6, 7, 8, 5, 3, 5.6, 9, 3, 5, 'huuu', 'hello']"
      ]
     },
     "execution_count": 56,
     "metadata": {},
     "output_type": "execute_result"
    }
   ],
   "source": [
    "l5.insert(-1,'huuu')  # -1 menas last la nhi janar 1 step adhich insert hoil.\n",
    "l5"
   ]
  },
  {
   "cell_type": "code",
   "execution_count": 57,
   "id": "e62f2929",
   "metadata": {},
   "outputs": [
    {
     "name": "stdout",
     "output_type": "stream",
     "text": [
      "15\n"
     ]
    },
    {
     "data": {
      "text/plain": [
       "['hi', 'hey', 4, 6, 5, 7, 8, 5, 3, 5.6, 9, 3, 5, 'huuu', 'hello']"
      ]
     },
     "execution_count": 57,
     "metadata": {},
     "output_type": "execute_result"
    }
   ],
   "source": [
    "l5.insert(4,5)\n",
    "print(len(l5))\n",
    "l5"
   ]
  },
  {
   "cell_type": "markdown",
   "id": "a311d89b",
   "metadata": {},
   "source": [
    "*** multiple ele for perticular index in list possible nhie *******"
   ]
  },
  {
   "cell_type": "code",
   "execution_count": 58,
   "id": "0a2c8cfb",
   "metadata": {},
   "outputs": [
    {
     "data": {
      "text/plain": [
       "[0, 1, 2, 3, 4, 5, 6, 7, 8, 9]"
      ]
     },
     "execution_count": 58,
     "metadata": {},
     "output_type": "execute_result"
    }
   ],
   "source": [
    "# replace ele of perticular index using range\n",
    "a = list(range(10))\n",
    "a"
   ]
  },
  {
   "cell_type": "code",
   "execution_count": 59,
   "id": "3efc2ed8",
   "metadata": {},
   "outputs": [
    {
     "data": {
      "text/plain": [
       "[0, 11, 12, 13, 5, 6, 7, 8, 9]"
      ]
     },
     "execution_count": 59,
     "metadata": {},
     "output_type": "execute_result"
    }
   ],
   "source": [
    "a[1:5] = range(11,14)\n",
    "a"
   ]
  },
  {
   "cell_type": "code",
   "execution_count": 63,
   "id": "19029713",
   "metadata": {},
   "outputs": [
    {
     "data": {
      "text/plain": [
       "['hi',\n",
       " 'hey',\n",
       " 4,\n",
       " 6,\n",
       " 5,\n",
       " 7,\n",
       " 8,\n",
       " 5,\n",
       " 3,\n",
       " 5.6,\n",
       " 9,\n",
       " 3,\n",
       " 5,\n",
       " 'huuu',\n",
       " 'hello',\n",
       " 0,\n",
       " 1,\n",
       " 2,\n",
       " 3,\n",
       " 4,\n",
       " 5,\n",
       " 6,\n",
       " 7,\n",
       " 8,\n",
       " 9,\n",
       " 49]"
      ]
     },
     "execution_count": 63,
     "metadata": {},
     "output_type": "execute_result"
    }
   ],
   "source": [
    "#2. Concat --> ' + ' sign use kr concat pandas mdhe ahe \n",
    "l5 + l6"
   ]
  },
  {
   "cell_type": "code",
   "execution_count": 61,
   "id": "f45cad2a",
   "metadata": {},
   "outputs": [],
   "source": [
    "#3. append() -->  ONLY add at the end"
   ]
  },
  {
   "cell_type": "code",
   "execution_count": 62,
   "id": "b3f67af4",
   "metadata": {},
   "outputs": [
    {
     "data": {
      "text/plain": [
       "[0, 1, 2, 3, 4, 5, 6, 7, 8, 9, 49]"
      ]
     },
     "execution_count": 62,
     "metadata": {},
     "output_type": "execute_result"
    }
   ],
   "source": [
    "l6 = [0, 1, 2, 3, 4, 5, 6, 7, 8, 9]\n",
    "l6.append(49)\n",
    "l6"
   ]
  },
  {
   "cell_type": "code",
   "execution_count": 266,
   "id": "a274bd33",
   "metadata": {},
   "outputs": [
    {
     "data": {
      "text/plain": [
       "[0, 1, 2, 3, (4, 5, 67, 'hi', {'name': 'heje'})]"
      ]
     },
     "execution_count": 266,
     "metadata": {},
     "output_type": "execute_result"
    }
   ],
   "source": [
    "# add tuple into list\n",
    "l6.append((4,5,67,'hi',{\"name\": \"heje\"}))\n",
    "l6"
   ]
  },
  {
   "cell_type": "code",
   "execution_count": 67,
   "id": "11afedd6",
   "metadata": {},
   "outputs": [
    {
     "data": {
      "text/plain": [
       "[0, 1, 2, 3, {'name': 'heje'}]"
      ]
     },
     "execution_count": 67,
     "metadata": {},
     "output_type": "execute_result"
    }
   ],
   "source": [
    "# add dict into list\n",
    "l8=[0, 1, 2, 3]\n",
    "l8.append({\"name\": \"heje\"})\n",
    "l8"
   ]
  },
  {
   "cell_type": "code",
   "execution_count": 68,
   "id": "b9c86299",
   "metadata": {},
   "outputs": [
    {
     "name": "stdout",
     "output_type": "stream",
     "text": [
      "['Python', 'Geek', 5, 4, 3, 2, 1]\n"
     ]
    }
   ],
   "source": [
    "#4. Reversing a list\n",
    "mylist = [1, 2, 3, 4, 5, 'Geek', 'Python']\n",
    "mylist.reverse()\n",
    "print(mylist)\n"
   ]
  },
  {
   "cell_type": "code",
   "execution_count": 69,
   "id": "11125152",
   "metadata": {},
   "outputs": [],
   "source": [
    "#5. Remove --> only one ele(NOT INDEX ELE) at a time "
   ]
  },
  {
   "cell_type": "code",
   "execution_count": 70,
   "id": "24102f3d",
   "metadata": {},
   "outputs": [
    {
     "name": "stdout",
     "output_type": "stream",
     "text": [
      "[1, 2, 3, 4, 5, 6, 8, 9, 11, 12]\n"
     ]
    }
   ],
   "source": [
    "List = [1, 2, 3, 4, 5, 6,7, 8, 9, 10, 11, 12]\n",
    "List.remove(7)\n",
    "List.remove(10)\n",
    "\n",
    "print(List)\n"
   ]
  },
  {
   "cell_type": "code",
   "execution_count": 71,
   "id": "f1d1aac4",
   "metadata": {},
   "outputs": [
    {
     "data": {
      "text/plain": [
       "[0, 1, 2, 3, {'name': 'heje'}]"
      ]
     },
     "execution_count": 71,
     "metadata": {},
     "output_type": "execute_result"
    }
   ],
   "source": [
    "l8"
   ]
  },
  {
   "cell_type": "code",
   "execution_count": 72,
   "id": "dd2ffa5c",
   "metadata": {},
   "outputs": [],
   "source": [
    "#6. POP() --> fact last cha ele PRINT krel jr specific position cha ele pop krycha asel tr pop(---)argument dyaycha."
   ]
  },
  {
   "cell_type": "code",
   "execution_count": 73,
   "id": "e101e3dd",
   "metadata": {},
   "outputs": [
    {
     "data": {
      "text/plain": [
       "[0, 1, 2, 3]"
      ]
     },
     "execution_count": 73,
     "metadata": {},
     "output_type": "execute_result"
    }
   ],
   "source": [
    "l8.pop()\n",
    "l8\n"
   ]
  },
  {
   "cell_type": "code",
   "execution_count": 74,
   "id": "8e602a73",
   "metadata": {},
   "outputs": [
    {
     "data": {
      "text/plain": [
       "[0, 1, 3]"
      ]
     },
     "execution_count": 74,
     "metadata": {},
     "output_type": "execute_result"
    }
   ],
   "source": [
    "l8.pop(2)\n",
    "l8"
   ]
  },
  {
   "cell_type": "code",
   "execution_count": 76,
   "id": "83af8a59",
   "metadata": {},
   "outputs": [
    {
     "data": {
      "text/plain": [
       "8"
      ]
     },
     "execution_count": 76,
     "metadata": {},
     "output_type": "execute_result"
    }
   ],
   "source": [
    "List2 = [1, 2, 3, 4, 5,8,89]\n",
    "List2.pop(5)\n",
    "  # index cha ele pop hoil"
   ]
  },
  {
   "cell_type": "code",
   "execution_count": 312,
   "id": "9c9aaf0c",
   "metadata": {},
   "outputs": [
    {
     "data": {
      "text/plain": [
       "4"
      ]
     },
     "execution_count": 312,
     "metadata": {},
     "output_type": "execute_result"
    }
   ],
   "source": [
    "limited_token = [1,2,3,4,5,6]\n",
    "limited_token.pop(3)"
   ]
  },
  {
   "cell_type": "code",
   "execution_count": 313,
   "id": "639d9e78",
   "metadata": {},
   "outputs": [
    {
     "data": {
      "text/plain": [
       "6"
      ]
     },
     "execution_count": 313,
     "metadata": {},
     "output_type": "execute_result"
    }
   ],
   "source": [
    "D = limited_token.pop()# pop keleli value D mdhe store keli\n",
    "D"
   ]
  },
  {
   "cell_type": "code",
   "execution_count": 314,
   "id": "59b730e5",
   "metadata": {},
   "outputs": [
    {
     "data": {
      "text/plain": [
       "[1, 2, 3, 6, 5]"
      ]
     },
     "execution_count": 314,
     "metadata": {},
     "output_type": "execute_result"
    }
   ],
   "source": [
    "limited_token.insert(3,D)\n",
    "limited_token"
   ]
  },
  {
   "cell_type": "code",
   "execution_count": 315,
   "id": "c4df7709",
   "metadata": {},
   "outputs": [
    {
     "data": {
      "text/plain": [
       "[1, 2, 3, 4, 'hi', 7, 5, (4, 5)]"
      ]
     },
     "execution_count": 315,
     "metadata": {},
     "output_type": "execute_result"
    }
   ],
   "source": [
    "#7. Extend() -->  add multiple elements at the same time at the end of the list.\n",
    "# append() -->  add single ele at the end\n",
    "lt3 = [1, 2, 3, 4]\n",
    "lt3.extend(['hi',7,5,(4,5)])\n",
    "lt3"
   ]
  },
  {
   "cell_type": "code",
   "execution_count": 316,
   "id": "c243d9c3",
   "metadata": {},
   "outputs": [
    {
     "data": {
      "text/plain": [
       "[1, 2, 3, 4, 'hi', 7, 5, (4, 5)]"
      ]
     },
     "execution_count": 316,
     "metadata": {},
     "output_type": "execute_result"
    }
   ],
   "source": [
    "#8. clear() -->  removes all the elements from the list.\n",
    "lt3"
   ]
  },
  {
   "cell_type": "code",
   "execution_count": 318,
   "id": "7802bd16",
   "metadata": {},
   "outputs": [
    {
     "data": {
      "text/plain": [
       "[]"
      ]
     },
     "execution_count": 318,
     "metadata": {},
     "output_type": "execute_result"
    }
   ],
   "source": [
    "lt3.clear()\n",
    "lt3"
   ]
  },
  {
   "cell_type": "code",
   "execution_count": 326,
   "id": "6d96f56e",
   "metadata": {},
   "outputs": [],
   "source": [
    "#9. sort()--> ascending order\n",
    "#sort(reverse=True) -->Descending order\n",
    "cars = ['Ford', 'BMW', 'Volvo']\n",
    "\n",
    "cars.sort()\n"
   ]
  },
  {
   "cell_type": "code",
   "execution_count": 327,
   "id": "0a0f6bcb",
   "metadata": {},
   "outputs": [
    {
     "data": {
      "text/plain": [
       "['BMW', 'Ford', 'Volvo']"
      ]
     },
     "execution_count": 327,
     "metadata": {},
     "output_type": "execute_result"
    }
   ],
   "source": [
    "cars = ['Ford', 'BMW', 'Volvo']\n",
    "\n",
    "cars.sort()\n",
    "cars"
   ]
  },
  {
   "cell_type": "code",
   "execution_count": 328,
   "id": "09d9e588",
   "metadata": {},
   "outputs": [
    {
     "data": {
      "text/plain": [
       "['Volvo', 'Ford', 'BMW']"
      ]
     },
     "execution_count": 328,
     "metadata": {},
     "output_type": "execute_result"
    }
   ],
   "source": [
    "cars.sort(reverse=True)\n",
    "cars"
   ]
  },
  {
   "cell_type": "code",
   "execution_count": null,
   "id": "d150fed1",
   "metadata": {},
   "outputs": [],
   "source": [
    "#10. Count() --> count the ele"
   ]
  },
  {
   "cell_type": "code",
   "execution_count": 332,
   "id": "27419b13",
   "metadata": {},
   "outputs": [
    {
     "data": {
      "text/plain": [
       "1"
      ]
     },
     "execution_count": 332,
     "metadata": {},
     "output_type": "execute_result"
    }
   ],
   "source": [
    "points = [1, 4, 2, 9, 7, 8, 9, 3, 1]\n",
    "\n",
    "x = points.count(3)\n",
    "x"
   ]
  },
  {
   "cell_type": "code",
   "execution_count": 333,
   "id": "076d6596",
   "metadata": {},
   "outputs": [],
   "source": [
    "#11. index() --> returns the position at the first occurrence of the specified value."
   ]
  },
  {
   "cell_type": "code",
   "execution_count": 334,
   "id": "e3ea91f5",
   "metadata": {},
   "outputs": [
    {
     "data": {
      "text/plain": [
       "7"
      ]
     },
     "execution_count": 334,
     "metadata": {},
     "output_type": "execute_result"
    }
   ],
   "source": [
    "points = [1, 4, 2, 9, 7, 8, 9, 3, 1]\n",
    "\n",
    "x = points.index(3)\n",
    "x"
   ]
  },
  {
   "cell_type": "markdown",
   "id": "3dc1d350",
   "metadata": {},
   "source": [
    "# Tuple() : immutable & Ordered\n",
    "Python Tuple is a collection of objects separated by commas. \n",
    "The sequence of values stored in a tuple can be of any type, and they are indexed by integers. "
   ]
  },
  {
   "cell_type": "markdown",
   "id": "5b21b1c0",
   "metadata": {},
   "source": [
    "# data security,fastre than list,no additional mem"
   ]
  },
  {
   "cell_type": "code",
   "execution_count": 41,
   "id": "2163a5dc",
   "metadata": {},
   "outputs": [
    {
     "name": "stdout",
     "output_type": "stream",
     "text": [
      "<class 'tuple'>\n",
      "<class 'str'>\n"
     ]
    }
   ],
   "source": [
    "thistuple = (\"apple\",)     # comma very imp\n",
    "print(type(thistuple))\n",
    "\n",
    "#NOT a tuple\n",
    "thistuple = (\"apple\")\n",
    "print(type(thistuple))"
   ]
  },
  {
   "cell_type": "code",
   "execution_count": 2,
   "id": "50881d34",
   "metadata": {},
   "outputs": [
    {
     "name": "stdout",
     "output_type": "stream",
     "text": [
      "('Geeks', 'for', 'Geeks')\n",
      "<class 'tuple'>\n"
     ]
    }
   ],
   "source": [
    "#1. \n",
    "var = (\"Geeks\", \"for\", \"Geeks\")\n",
    "print(var)\n",
    "print(type(var))"
   ]
  },
  {
   "cell_type": "code",
   "execution_count": 3,
   "id": "4768ba91",
   "metadata": {},
   "outputs": [],
   "source": [
    "# we can perform only count & index"
   ]
  },
  {
   "cell_type": "code",
   "execution_count": 21,
   "id": "1d497b9e",
   "metadata": {},
   "outputs": [
    {
     "data": {
      "text/plain": [
       "(12, 3, 4, 56, 78, (34, 56, 98), 300)"
      ]
     },
     "execution_count": 21,
     "metadata": {},
     "output_type": "execute_result"
    }
   ],
   "source": [
    "#2. accessing values from tuple\n",
    "p=(12,3,4,56,78,(34,56,98),300)\n",
    "p"
   ]
  },
  {
   "cell_type": "code",
   "execution_count": 22,
   "id": "11fc7d73",
   "metadata": {},
   "outputs": [
    {
     "data": {
      "text/plain": [
       "56"
      ]
     },
     "execution_count": 22,
     "metadata": {},
     "output_type": "execute_result"
    }
   ],
   "source": [
    "p[5][1]"
   ]
  },
  {
   "cell_type": "code",
   "execution_count": 7,
   "id": "ae7d3153",
   "metadata": {},
   "outputs": [
    {
     "data": {
      "text/plain": [
       "300"
      ]
     },
     "execution_count": 7,
     "metadata": {},
     "output_type": "execute_result"
    }
   ],
   "source": [
    "p[6]"
   ]
  },
  {
   "cell_type": "markdown",
   "id": "4c66f0e5",
   "metadata": {},
   "source": [
    "#A new way of creating Python Tuples in Python 3.11 –"
   ]
  },
  {
   "cell_type": "code",
   "execution_count": 15,
   "id": "7c135576",
   "metadata": {},
   "outputs": [
    {
     "ename": "TypeError",
     "evalue": "unsupported operand type(s) for |: 'type' and 'type'",
     "output_type": "error",
     "traceback": [
      "\u001b[1;31m---------------------------------------------------------------------------\u001b[0m",
      "\u001b[1;31mTypeError\u001b[0m                                 Traceback (most recent call last)",
      "\u001b[1;32m~\\AppData\\Local\\Temp\\ipykernel_7408\\1840143939.py\u001b[0m in \u001b[0;36m<module>\u001b[1;34m\u001b[0m\n\u001b[1;32m----> 1\u001b[1;33m \u001b[0mvalues\u001b[0m \u001b[1;33m:\u001b[0m \u001b[0mtuple\u001b[0m\u001b[1;33m[\u001b[0m\u001b[0mint\u001b[0m \u001b[1;33m|\u001b[0m \u001b[0mstr\u001b[0m\u001b[1;33m,\u001b[0m \u001b[1;33m...\u001b[0m\u001b[1;33m]\u001b[0m \u001b[1;33m=\u001b[0m \u001b[1;33m(\u001b[0m\u001b[1;36m1\u001b[0m\u001b[1;33m,\u001b[0m\u001b[1;36m2\u001b[0m\u001b[1;33m,\u001b[0m\u001b[1;36m4\u001b[0m\u001b[1;33m,\u001b[0m\u001b[1;34m\"Geek\"\u001b[0m\u001b[1;33m)\u001b[0m\u001b[1;33m\u001b[0m\u001b[1;33m\u001b[0m\u001b[0m\n\u001b[0m\u001b[0;32m      2\u001b[0m \u001b[1;33m\u001b[0m\u001b[0m\n\u001b[0;32m      3\u001b[0m \u001b[0mprint\u001b[0m\u001b[1;33m(\u001b[0m\u001b[0mvalues\u001b[0m\u001b[1;33m)\u001b[0m   \u001b[1;31m# needs python 3.11\u001b[0m\u001b[1;33m\u001b[0m\u001b[1;33m\u001b[0m\u001b[0m\n",
      "\u001b[1;31mTypeError\u001b[0m: unsupported operand type(s) for |: 'type' and 'type'"
     ]
    }
   ],
   "source": [
    "values : tuple[int | str, ...] = (1,2,4,\"Geek\")\n",
    "\n",
    "print(values)   # needs python 3.11"
   ]
  },
  {
   "cell_type": "code",
   "execution_count": 26,
   "id": "b68898bc",
   "metadata": {},
   "outputs": [
    {
     "data": {
      "text/plain": [
       "(12, 3, 4, 56, 'hi', 78, (34, 56, 98), 300)"
      ]
     },
     "execution_count": 26,
     "metadata": {},
     "output_type": "execute_result"
    }
   ],
   "source": [
    "#3.using -ve index\n",
    "p1=(12,3,4,56,\"hi\",78,(34,56,98),300)\n",
    "p1"
   ]
  },
  {
   "cell_type": "code",
   "execution_count": 27,
   "id": "b43a2f88",
   "metadata": {},
   "outputs": [
    {
     "data": {
      "text/plain": [
       "56"
      ]
     },
     "execution_count": 27,
     "metadata": {},
     "output_type": "execute_result"
    }
   ],
   "source": [
    "p1[-2][1]"
   ]
  },
  {
   "cell_type": "code",
   "execution_count": 28,
   "id": "73bcc85b",
   "metadata": {},
   "outputs": [
    {
     "name": "stdout",
     "output_type": "stream",
     "text": [
      "(12, 3, 4, 56, 78, (34, 56, 98), 300, 12, 3, 4, 56, 'hi', 78, (34, 56, 98), 300)\n"
     ]
    }
   ],
   "source": [
    "#4.  Concat\n",
    "print(p+p1)"
   ]
  },
  {
   "cell_type": "code",
   "execution_count": 29,
   "id": "f4639927",
   "metadata": {},
   "outputs": [
    {
     "data": {
      "text/plain": [
       "((12, 3, 4, 56, 78, (34, 56, 98), 300),\n",
       " (12, 3, 4, 56, 'hi', 78, (34, 56, 98), 300))"
      ]
     },
     "execution_count": 29,
     "metadata": {},
     "output_type": "execute_result"
    }
   ],
   "source": [
    "#5. Nesting of tuples\n",
    "p3=(p,p1)\n",
    "p3"
   ]
  },
  {
   "cell_type": "code",
   "execution_count": 33,
   "id": "567a07ce",
   "metadata": {},
   "outputs": [
    {
     "name": "stdout",
     "output_type": "stream",
     "text": [
      "('hi', 'hi', 'hi')\n"
     ]
    }
   ],
   "source": [
    "#6. repetation\n",
    "p3 = ('hi',)*3\n",
    "print(p3)"
   ]
  },
  {
   "cell_type": "code",
   "execution_count": 38,
   "id": "24e0cb74",
   "metadata": {},
   "outputs": [
    {
     "name": "stdout",
     "output_type": "stream",
     "text": [
      "(0, 1, 2, 3)\n",
      "(3, 2, 1, 0)\n",
      "(2, 3)\n",
      "3\n"
     ]
    }
   ],
   "source": [
    "#7. Slicing Python Tuples\n",
    "\n",
    "tuple1 = (0 ,1, 2, 3)\n",
    "\n",
    "print(tuple1)\n",
    "print(tuple1[::-1])\n",
    "print(tuple1[2:4])\n",
    "print(tuple1[-1])"
   ]
  },
  {
   "cell_type": "code",
   "execution_count": 36,
   "id": "335bd163",
   "metadata": {},
   "outputs": [
    {
     "ename": "AttributeError",
     "evalue": "'tuple' object has no attribute 'reverse'",
     "output_type": "error",
     "traceback": [
      "\u001b[1;31m---------------------------------------------------------------------------\u001b[0m",
      "\u001b[1;31mAttributeError\u001b[0m                            Traceback (most recent call last)",
      "\u001b[1;32m~\\AppData\\Local\\Temp\\ipykernel_7408\\3733035788.py\u001b[0m in \u001b[0;36m<module>\u001b[1;34m\u001b[0m\n\u001b[1;32m----> 1\u001b[1;33m \u001b[0mtuple1\u001b[0m\u001b[1;33m.\u001b[0m\u001b[0mreverse\u001b[0m\u001b[1;33m(\u001b[0m\u001b[1;33m)\u001b[0m\u001b[1;33m\u001b[0m\u001b[1;33m\u001b[0m\u001b[0m\n\u001b[0m\u001b[0;32m      2\u001b[0m \u001b[0mprint\u001b[0m\u001b[1;33m(\u001b[0m\u001b[0mtuple1\u001b[0m\u001b[1;33m)\u001b[0m\u001b[1;33m\u001b[0m\u001b[1;33m\u001b[0m\u001b[0m\n",
      "\u001b[1;31mAttributeError\u001b[0m: 'tuple' object has no attribute 'reverse'"
     ]
    }
   ],
   "source": [
    "tuple1.reverse()\n",
    "print(tuple1)"
   ]
  },
  {
   "cell_type": "code",
   "execution_count": 39,
   "id": "3b6d1cc9",
   "metadata": {},
   "outputs": [
    {
     "name": "stdout",
     "output_type": "stream",
     "text": [
      "4\n"
     ]
    }
   ],
   "source": [
    "#8. Finding Length of a Tuple\n",
    "print(len(tuple1))"
   ]
  },
  {
   "cell_type": "code",
   "execution_count": 40,
   "id": "5f8fb1c7",
   "metadata": {},
   "outputs": [
    {
     "name": "stdout",
     "output_type": "stream",
     "text": [
      "(1, 3, 67, 8)\n"
     ]
    }
   ],
   "source": [
    "#9. convert list into tuple\n",
    "li = [1,3,67,8]\n",
    "print(tuple(li))"
   ]
  },
  {
   "cell_type": "code",
   "execution_count": 44,
   "id": "caf36f01",
   "metadata": {},
   "outputs": [
    {
     "name": "stdout",
     "output_type": "stream",
     "text": [
      "enter no567\n",
      "18\n"
     ]
    }
   ],
   "source": [
    "a = input(\"enter no\")\n",
    "sum =0\n",
    "for i in a:\n",
    "    sum = sum + int(i)\n",
    "print(sum)"
   ]
  },
  {
   "cell_type": "code",
   "execution_count": 63,
   "id": "c7ea7aba",
   "metadata": {},
   "outputs": [
    {
     "data": {
      "text/plain": [
       "('hi', 'hello', 3, 5, 6)"
      ]
     },
     "execution_count": 63,
     "metadata": {},
     "output_type": "execute_result"
    }
   ],
   "source": [
    "#10. Change Tuple Values using list    -- immutable asel tri krta yeta but using list\n",
    "\n",
    "ty = (\"hi\",\"hello\",3,5,6)\n",
    "ty"
   ]
  },
  {
   "cell_type": "code",
   "execution_count": 64,
   "id": "338ed861",
   "metadata": {},
   "outputs": [
    {
     "data": {
      "text/plain": [
       "['hi', 'hello', 3, 5, 6]"
      ]
     },
     "execution_count": 64,
     "metadata": {},
     "output_type": "execute_result"
    }
   ],
   "source": [
    "x= list(ty)\n",
    "x"
   ]
  },
  {
   "cell_type": "code",
   "execution_count": 65,
   "id": "2ea6750f",
   "metadata": {},
   "outputs": [
    {
     "name": "stdout",
     "output_type": "stream",
     "text": [
      "('hi', 'hello', 'huuu', 5, 6)\n"
     ]
    }
   ],
   "source": [
    "x[2]=\"huuu\"\n",
    "ty = tuple(x)\n",
    "print(ty)"
   ]
  },
  {
   "cell_type": "code",
   "execution_count": 68,
   "id": "11a5da6f",
   "metadata": {},
   "outputs": [
    {
     "name": "stdout",
     "output_type": "stream",
     "text": [
      "('apple', 'banana', 'cherry', 'orange')\n"
     ]
    }
   ],
   "source": [
    "#11. Add tuple to a tuple.  -- add kru shkto -- new tuple create krun add kra\n",
    "thistuple = (\"apple\",\"banana\", \"cherry\")\n",
    "y = (\"orange\",)\n",
    "thistuple += y\n",
    "\n",
    "print(thistuple)"
   ]
  },
  {
   "cell_type": "code",
   "execution_count": 75,
   "id": "e73da4ac",
   "metadata": {},
   "outputs": [
    {
     "name": "stdout",
     "output_type": "stream",
     "text": [
      "('apple', 'banana', 'cherry', 2, 45, 7, 9)\n"
     ]
    }
   ],
   "source": [
    "tu = (\"apple\", \"banana\", \"cherry\",2,45,7)\n",
    "tuu = (9,)     # comma imp\n",
    "tu += tuu\n",
    "print(tu)"
   ]
  },
  {
   "cell_type": "code",
   "execution_count": 79,
   "id": "130a2a8e",
   "metadata": {},
   "outputs": [
    {
     "data": {
      "text/plain": [
       "1"
      ]
     },
     "execution_count": 79,
     "metadata": {},
     "output_type": "execute_result"
    }
   ],
   "source": [
    "#12. Count () Method\n",
    "z = tu.count(2)\n",
    "z\n",
    "\n"
   ]
  },
  {
   "cell_type": "code",
   "execution_count": 80,
   "id": "d1b57bef",
   "metadata": {},
   "outputs": [
    {
     "data": {
      "text/plain": [
       "1"
      ]
     },
     "execution_count": 80,
     "metadata": {},
     "output_type": "execute_result"
    }
   ],
   "source": [
    "#13. Index() Method:\n",
    "\n",
    "z1 = tu.index(\"banana\")\n",
    "z1\n"
   ]
  },
  {
   "cell_type": "code",
   "execution_count": 91,
   "id": "a7c40590",
   "metadata": {},
   "outputs": [
    {
     "name": "stdout",
     "output_type": "stream",
     "text": [
      "True\n",
      "False\n"
     ]
    }
   ],
   "source": [
    "# Tuple Membership Test   --- in , not in  -- check present or not\n",
    "\n",
    "tuple_ = (\"Python\", \"Tuple\", \"Ordered\", \"Immutable\", \"Collection\", \"Ordered\") \n",
    "print('Ordered' in tuple_)\n",
    "print('Ordered' not in tuple_)\n"
   ]
  },
  {
   "cell_type": "markdown",
   "id": "ff66d802",
   "metadata": {},
   "source": [
    "# SET {}:  a Set is an unordered collection of data types that is iterable, mutable and has no duplicate elements"
   ]
  },
  {
   "cell_type": "code",
   "execution_count": 89,
   "id": "8c900a7b",
   "metadata": {},
   "outputs": [
    {
     "name": "stdout",
     "output_type": "stream",
     "text": [
      "Initial blank Set: \n",
      "set()\n",
      "{'k', 'F', 'o', 'r', 's', 'G', 'e'}\n",
      "\n",
      "Set with the use of List: \n",
      "{'Geeks', 'For'}\n"
     ]
    }
   ],
   "source": [
    "#1. Creating a Set\n",
    "set1 = set()\n",
    "print(\"Initial blank Set: \")\n",
    "print(set1)\n",
    " \n",
    "# 2.Creating a Set with\n",
    "# the use of a String\n",
    "set1 = set(\"GeeksForGeeks\")                 # delete duplicate ele\n",
    "print(set1)\n",
    "\n",
    "string = \"vishnu pagal\"\n",
    "set1 = set(string)\n",
    "set1\n",
    "\n",
    "set1 = set([\"Geeks\", \"For\", \"Geeks\"])\n",
    "print(\"\\nSet with the use of List: \")\n",
    "print(set1)"
   ]
  },
  {
   "cell_type": "markdown",
   "id": "57b99f41",
   "metadata": {},
   "source": [
    "#  interview -how to remove duplicate ele from list ?"
   ]
  },
  {
   "cell_type": "code",
   "execution_count": 95,
   "id": "15939073",
   "metadata": {},
   "outputs": [
    {
     "data": {
      "text/plain": [
       "{1, 2, 3, 5, 6, 7, 'huu'}"
      ]
     },
     "execution_count": 95,
     "metadata": {},
     "output_type": "execute_result"
    }
   ],
   "source": [
    "v = [1,2,2,3,3,5,6,7,\"huu\"]\n",
    "set(v)"
   ]
  },
  {
   "cell_type": "markdown",
   "id": "05423f24",
   "metadata": {},
   "source": [
    "Note: Lists cannot be added to a set as elements because Lists are not hashable whereas Tuples can be added because tuples are immutable and hence Hashable. "
   ]
  },
  {
   "cell_type": "code",
   "execution_count": 96,
   "id": "17d75a53",
   "metadata": {},
   "outputs": [],
   "source": [
    "# set mdhe list nhi add kru shkt coz mutuable ahe \n",
    "#           tuple add kru shkto immutable ahe"
   ]
  },
  {
   "cell_type": "code",
   "execution_count": 97,
   "id": "91f416d3",
   "metadata": {},
   "outputs": [
    {
     "data": {
      "text/plain": [
       "{1, 2, 3, 5, 6, 7, 99, 'huu'}"
      ]
     },
     "execution_count": 97,
     "metadata": {},
     "output_type": "execute_result"
    }
   ],
   "source": [
    "#3. Using add() method\n",
    "\n",
    "set2 = {1,2,2,3,3,5,6,7,\"huu\"}\n",
    "set2.add(99)\n",
    "set2"
   ]
  },
  {
   "cell_type": "code",
   "execution_count": 102,
   "id": "fe66e6a9",
   "metadata": {},
   "outputs": [
    {
     "data": {
      "text/plain": [
       "{('hgjhgjh', 567), 1, 2, 3, 5, 6, 7, 99, 'hgjhgjh', 'huu'}"
      ]
     },
     "execution_count": 102,
     "metadata": {},
     "output_type": "execute_result"
    }
   ],
   "source": [
    "set2.add((\"hgjhgjh\",567))\n",
    "set2"
   ]
  },
  {
   "cell_type": "code",
   "execution_count": 104,
   "id": "2b1fab2b",
   "metadata": {},
   "outputs": [
    {
     "name": "stdout",
     "output_type": "stream",
     "text": [
      "{4, 5, 10, 11, (6, 7)}\n"
     ]
    }
   ],
   "source": [
    "set1 = set([4, 5, (6, 7)])\n",
    "set1.update([10, 11])\n",
    "print(set1)"
   ]
  },
  {
   "cell_type": "code",
   "execution_count": 105,
   "id": "348f454f",
   "metadata": {},
   "outputs": [],
   "source": [
    "#4. Removing elements from the Set\n",
    "#Using remove() method or discard() method:"
   ]
  },
  {
   "cell_type": "code",
   "execution_count": 106,
   "id": "316f8776",
   "metadata": {},
   "outputs": [],
   "source": [
    "# To remove elements from a set without KeyError, use discard(), if the element doesn’t exist in the set, it remains unchanged."
   ]
  },
  {
   "cell_type": "code",
   "execution_count": 124,
   "id": "d105ac0c",
   "metadata": {},
   "outputs": [
    {
     "data": {
      "text/plain": [
       "{1, 2, 3, 4, 5, 6, 7, 8, 9, 10, 11, 12}"
      ]
     },
     "execution_count": 124,
     "metadata": {},
     "output_type": "execute_result"
    }
   ],
   "source": [
    "set1 = set([1, 2, 3, 4, 5, 6,\n",
    "            7, 8, 9, 10, 11, 12])\n",
    "set1"
   ]
  },
  {
   "cell_type": "code",
   "execution_count": 125,
   "id": "5cc1c912",
   "metadata": {},
   "outputs": [
    {
     "data": {
      "text/plain": [
       "{1, 2, 4, 5, 6, 7, 8, 9, 10, 11, 12}"
      ]
     },
     "execution_count": 125,
     "metadata": {},
     "output_type": "execute_result"
    }
   ],
   "source": [
    "set1.discard(3)\n",
    "set1"
   ]
  },
  {
   "cell_type": "code",
   "execution_count": 128,
   "id": "0f6b05a2",
   "metadata": {},
   "outputs": [
    {
     "data": {
      "text/plain": [
       "{5, 6, 7, 8, 9, 10, 11, 12}"
      ]
     },
     "execution_count": 128,
     "metadata": {},
     "output_type": "execute_result"
    }
   ],
   "source": [
    "#5. Using pop() method:     Note: If the set is unordered then there’s no such way to determine which element is popped by using the pop() function. \n",
    "set1.pop()\n",
    "set1"
   ]
  },
  {
   "cell_type": "code",
   "execution_count": 130,
   "id": "cdd450ef",
   "metadata": {},
   "outputs": [
    {
     "data": {
      "text/plain": [
       "set()"
      ]
     },
     "execution_count": 130,
     "metadata": {},
     "output_type": "execute_result"
    }
   ],
   "source": [
    "#6. set1.clear()\n",
    "set1"
   ]
  },
  {
   "cell_type": "code",
   "execution_count": 131,
   "id": "4c8ab210",
   "metadata": {},
   "outputs": [
    {
     "name": "stdout",
     "output_type": "stream",
     "text": [
      "True\n"
     ]
    }
   ],
   "source": [
    "def set_subset():\n",
    "    set1 = {1, 2, 3, 4, 5}\n",
    "    set2 = {2, 3, 4}\n",
    "    subset = set2.issubset(set1)\n",
    "    print(subset)\n",
    "if __name__ == '__main__':\n",
    "    set_subset()"
   ]
  },
  {
   "cell_type": "code",
   "execution_count": 136,
   "id": "cb8374fb",
   "metadata": {},
   "outputs": [
    {
     "name": "stdout",
     "output_type": "stream",
     "text": [
      "{8, 6, 7}\n"
     ]
    }
   ],
   "source": [
    "def set_difference():   # set1 mdhe set2 che j ele present nhiet te print krel\n",
    "    set1 = {1, 2, 3, 4, 5}\n",
    "    set2 = {4, 5, 6, 7, 8}\n",
    "    my_set = set2.difference(set1)\n",
    "    print(my_set)\n",
    "if __name__ == '__main__':\n",
    "    set_difference()"
   ]
  },
  {
   "cell_type": "code",
   "execution_count": 137,
   "id": "c57f7bb8",
   "metadata": {},
   "outputs": [
    {
     "name": "stdout",
     "output_type": "stream",
     "text": [
      "<class 'dict'>\n",
      "<class 'set'>\n"
     ]
    }
   ],
   "source": [
    "# Empty curly braces will create dictionary  \n",
    "set3 = {}  \n",
    "print(type(set3))  \n",
    "  \n",
    "# Empty set using set() function  \n",
    "set4 = set()  \n",
    "print(type(set4))  "
   ]
  },
  {
   "cell_type": "code",
   "execution_count": 139,
   "id": "34d25248",
   "metadata": {},
   "outputs": [
    {
     "name": "stdout",
     "output_type": "stream",
     "text": [
      "{1, 2, 'a', 'c', 3, 'b'}\n"
     ]
    }
   ],
   "source": [
    "#join two sets\n",
    "set1 = {\"a\", \"b\" , \"c\"}\n",
    "set2 = {1, 2, 3}\n",
    "\n",
    "set3 = set1.union(set2)\n",
    "print(set3)"
   ]
  },
  {
   "cell_type": "code",
   "execution_count": 140,
   "id": "07d3c6aa",
   "metadata": {},
   "outputs": [
    {
     "name": "stdout",
     "output_type": "stream",
     "text": [
      "{'apple'}\n"
     ]
    }
   ],
   "source": [
    "#The intersection_update() method will keep only the items that are present in both sets.\n",
    "x = {\"apple\", \"banana\", \"cherry\"}\n",
    "y = {\"google\", \"microsoft\", \"apple\"}\n",
    "\n",
    "x.intersection_update(y)\n",
    "\n",
    "print(x)"
   ]
  },
  {
   "cell_type": "markdown",
   "id": "8a3450c7",
   "metadata": {},
   "source": [
    "# Dictionary\n",
    "Dictionaries are used to store data values in key:value pairs.\n",
    "\n",
    "A dictionary is a collection which is ordered*, changeable and do not allow duplicates."
   ]
  },
  {
   "cell_type": "markdown",
   "id": "bba4ec88",
   "metadata": {},
   "source": [
    "# we cant delete only key or only value, both will del"
   ]
  },
  {
   "cell_type": "markdown",
   "id": "830904cc",
   "metadata": {},
   "source": [
    "# Key --> immutable\n",
    "# value -->  immutable/mutable"
   ]
  },
  {
   "cell_type": "markdown",
   "id": "3d183e50",
   "metadata": {},
   "source": [
    "As of Python version 3.7, dictionaries are ordered. In Python 3.6 and earlier, dictionaries are unordered."
   ]
  },
  {
   "cell_type": "code",
   "execution_count": 142,
   "id": "38fd016a",
   "metadata": {},
   "outputs": [
    {
     "data": {
      "text/plain": [
       "{'name': 'vaish', 'roll no': 12, 'id': 8}"
      ]
     },
     "execution_count": 142,
     "metadata": {},
     "output_type": "execute_result"
    }
   ],
   "source": [
    "dict= {\"name\":\"vaish\",\"roll no\":12,\"id\": 8}\n",
    "dict"
   ]
  },
  {
   "cell_type": "code",
   "execution_count": 143,
   "id": "9234d403",
   "metadata": {},
   "outputs": [
    {
     "name": "stdout",
     "output_type": "stream",
     "text": [
      "8\n"
     ]
    }
   ],
   "source": [
    "#1. items\n",
    "print(dict[\"id\"])"
   ]
  },
  {
   "cell_type": "code",
   "execution_count": 147,
   "id": "3a70c842",
   "metadata": {},
   "outputs": [],
   "source": [
    "# Accessing ele\n",
    "dict1= {\"name\":[\"vaish\",'taish','faish'],\"roll no\":[13,4512],\"id\": [7,98,8]}"
   ]
  },
  {
   "cell_type": "code",
   "execution_count": 148,
   "id": "2649e3c3",
   "metadata": {},
   "outputs": [
    {
     "data": {
      "text/plain": [
       "{'name': ['vaish', 'taish', 'faish'], 'roll no': [13, 4512], 'id': [7, 98, 8]}"
      ]
     },
     "execution_count": 148,
     "metadata": {},
     "output_type": "execute_result"
    }
   ],
   "source": [
    " \n",
    "dict1\n"
   ]
  },
  {
   "cell_type": "code",
   "execution_count": 149,
   "id": "9416ba5d",
   "metadata": {},
   "outputs": [
    {
     "data": {
      "text/plain": [
       "98"
      ]
     },
     "execution_count": 149,
     "metadata": {},
     "output_type": "execute_result"
    }
   ],
   "source": [
    "dict1['id'][1]"
   ]
  },
  {
   "cell_type": "code",
   "execution_count": 159,
   "id": "15ab5e58",
   "metadata": {},
   "outputs": [
    {
     "data": {
      "text/plain": [
       "{'address': {'city': {'pincode:[angles,pune,5678]}'}}}"
      ]
     },
     "execution_count": 159,
     "metadata": {},
     "output_type": "execute_result"
    }
   ],
   "source": [
    "dict2 = {\"address\":{\"city\":{\"pincode:[angles,pune,5678]}\"}}}\n",
    "dict2"
   ]
  },
  {
   "cell_type": "code",
   "execution_count": 237,
   "id": "157a5dbc",
   "metadata": {},
   "outputs": [
    {
     "data": {
      "text/plain": [
       "{'city': {'pincode:[angles,pune,5678]}'}}"
      ]
     },
     "execution_count": 237,
     "metadata": {},
     "output_type": "execute_result"
    }
   ],
   "source": [
    "x=dict2.get('address')\n",
    "x"
   ]
  },
  {
   "cell_type": "code",
   "execution_count": null,
   "id": "f344e0ac",
   "metadata": {},
   "outputs": [],
   "source": []
  },
  {
   "cell_type": "code",
   "execution_count": 171,
   "id": "d27b25af",
   "metadata": {},
   "outputs": [],
   "source": [
    "#get()\n",
    "x=dict1.get(\"name\")"
   ]
  },
  {
   "cell_type": "code",
   "execution_count": 172,
   "id": "17ef05e1",
   "metadata": {},
   "outputs": [
    {
     "data": {
      "text/plain": [
       "['vaish', 'taish', 'faish']"
      ]
     },
     "execution_count": 172,
     "metadata": {},
     "output_type": "execute_result"
    }
   ],
   "source": [
    "x"
   ]
  },
  {
   "cell_type": "code",
   "execution_count": 175,
   "id": "36ef785f",
   "metadata": {},
   "outputs": [],
   "source": [
    "# to get all the keys\n",
    "x= dict1.keys()"
   ]
  },
  {
   "cell_type": "code",
   "execution_count": 176,
   "id": "825c6e0a",
   "metadata": {},
   "outputs": [
    {
     "data": {
      "text/plain": [
       "dict_keys(['name', 'roll no', 'id'])"
      ]
     },
     "execution_count": 176,
     "metadata": {},
     "output_type": "execute_result"
    }
   ],
   "source": [
    "x"
   ]
  },
  {
   "cell_type": "code",
   "execution_count": 242,
   "id": "0b4d17b8",
   "metadata": {},
   "outputs": [
    {
     "data": {
      "text/plain": [
       "dict_values([['vaish', 'taish', 'faish'], [13, 4512], [76, 78, 45], 'IT'])"
      ]
     },
     "execution_count": 242,
     "metadata": {},
     "output_type": "execute_result"
    }
   ],
   "source": [
    "# to get values    ---> as a tuple in list\n",
    "dict1.values()"
   ]
  },
  {
   "cell_type": "code",
   "execution_count": 241,
   "id": "51fc424b",
   "metadata": {},
   "outputs": [
    {
     "data": {
      "text/plain": [
       "dict_items([('name', ['vaish', 'taish', 'faish']), ('roll no', [13, 4512]), ('id', [76, 78, 45]), ('department', 'IT')])"
      ]
     },
     "execution_count": 241,
     "metadata": {},
     "output_type": "execute_result"
    }
   ],
   "source": [
    "# to get items\n",
    "dict1.items()"
   ]
  },
  {
   "cell_type": "code",
   "execution_count": 221,
   "id": "787a88d5",
   "metadata": {},
   "outputs": [],
   "source": [
    "# change the value of a key\n",
    "dict1= {\"name\":[\"vaish\",'taish','faish'],\"roll no\":[13,4512],\"id\": [7,98,8]}\n",
    "#dict1[\"name\"]=\"huuu\",\"guuuu\" # values dilya without bracket tr as a tuple print honr"
   ]
  },
  {
   "cell_type": "code",
   "execution_count": 222,
   "id": "f5787230",
   "metadata": {},
   "outputs": [
    {
     "data": {
      "text/plain": [
       "{'name': ['vaish', 'taish', 'faish'], 'roll no': [13, 4512], 'id': [7, 98, 8]}"
      ]
     },
     "execution_count": 222,
     "metadata": {},
     "output_type": "execute_result"
    }
   ],
   "source": [
    "dict1"
   ]
  },
  {
   "cell_type": "code",
   "execution_count": 223,
   "id": "0b0375a7",
   "metadata": {},
   "outputs": [
    {
     "data": {
      "text/plain": [
       "'taish'"
      ]
     },
     "execution_count": 223,
     "metadata": {},
     "output_type": "execute_result"
    }
   ],
   "source": [
    "dict1[\"name\"][1]     "
   ]
  },
  {
   "cell_type": "code",
   "execution_count": 224,
   "id": "ca42a3fd",
   "metadata": {},
   "outputs": [
    {
     "ename": "KeyError",
     "evalue": "1",
     "output_type": "error",
     "traceback": [
      "\u001b[1;31m---------------------------------------------------------------------------\u001b[0m",
      "\u001b[1;31mKeyError\u001b[0m                                  Traceback (most recent call last)",
      "\u001b[1;32m~\\AppData\\Local\\Temp\\ipykernel_7408\\4269530863.py\u001b[0m in \u001b[0;36m<module>\u001b[1;34m\u001b[0m\n\u001b[1;32m----> 1\u001b[1;33m \u001b[0mdict1\u001b[0m\u001b[1;33m[\u001b[0m\u001b[1;36m1\u001b[0m\u001b[1;33m]\u001b[0m   \u001b[1;31m# nhi deu shkt coz unorderd ahe direct key ni access krycha\u001b[0m\u001b[1;33m\u001b[0m\u001b[1;33m\u001b[0m\u001b[0m\n\u001b[0m",
      "\u001b[1;31mKeyError\u001b[0m: 1"
     ]
    }
   ],
   "source": [
    "dict1[1]   # nhi deu shkt coz unorderd ahe direct key ni access krycha "
   ]
  },
  {
   "cell_type": "code",
   "execution_count": 225,
   "id": "b237de17",
   "metadata": {},
   "outputs": [
    {
     "data": {
      "text/plain": [
       "{'name': ['vaish', 'taish', 'faish'],\n",
       " 'roll no': [13, 4512],\n",
       " 'id': [7, 98, 8],\n",
       " 'department': 'IT'}"
      ]
     },
     "execution_count": 225,
     "metadata": {},
     "output_type": "execute_result"
    }
   ],
   "source": [
    "# insert an ele\n",
    "dict1[\"department\"]=\"IT\"\n",
    "dict1"
   ]
  },
  {
   "cell_type": "code",
   "execution_count": 226,
   "id": "eb54b046",
   "metadata": {},
   "outputs": [
    {
     "data": {
      "text/plain": [
       "{'name': ['vaish', 'taish', 'faish'],\n",
       " 'roll no': [13, 4512],\n",
       " 'id': [76, 78, 45],\n",
       " 'department': 'IT'}"
      ]
     },
     "execution_count": 226,
     "metadata": {},
     "output_type": "execute_result"
    }
   ],
   "source": [
    "#update                                \n",
    "dict1.update({\"id\":[76,78,45]})\n",
    "dict1"
   ]
  },
  {
   "cell_type": "code",
   "execution_count": 200,
   "id": "0797f2a2",
   "metadata": {},
   "outputs": [
    {
     "data": {
      "text/plain": [
       "{'id': None, 'name': None, 'department': None, 'class': None}"
      ]
     },
     "execution_count": 200,
     "metadata": {},
     "output_type": "execute_result"
    }
   ],
   "source": [
    "# list to dict\n",
    "a= [\"id\",\"name\",\"department\",\"class\"]\n",
    "x=dict.fromkeys(a)\n",
    "x"
   ]
  },
  {
   "cell_type": "code",
   "execution_count": 243,
   "id": "acc4f09b",
   "metadata": {},
   "outputs": [
    {
     "data": {
      "text/plain": [
       "['name', 'roll no', 'id', 'department']"
      ]
     },
     "execution_count": 243,
     "metadata": {},
     "output_type": "execute_result"
    }
   ],
   "source": [
    "list(dict1)"
   ]
  },
  {
   "cell_type": "code",
   "execution_count": null,
   "id": "56b6057b",
   "metadata": {},
   "outputs": [],
   "source": []
  },
  {
   "cell_type": "code",
   "execution_count": null,
   "id": "68035eb5",
   "metadata": {},
   "outputs": [],
   "source": []
  }
 ],
 "metadata": {
  "kernelspec": {
   "display_name": "Python 3 (ipykernel)",
   "language": "python",
   "name": "python3"
  },
  "language_info": {
   "codemirror_mode": {
    "name": "ipython",
    "version": 3
   },
   "file_extension": ".py",
   "mimetype": "text/x-python",
   "name": "python",
   "nbconvert_exporter": "python",
   "pygments_lexer": "ipython3",
   "version": "3.9.13"
  }
 },
 "nbformat": 4,
 "nbformat_minor": 5
}
